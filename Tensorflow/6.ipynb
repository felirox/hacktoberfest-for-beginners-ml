{
  "nbformat": 4,
  "nbformat_minor": 5,
  "metadata": {
    "kernelspec": {
      "display_name": "Python 3",
      "language": "python",
      "name": "python3"
    },
    "language_info": {
      "codemirror_mode": {
        "name": "ipython",
        "version": 3
      },
      "file_extension": ".py",
      "mimetype": "text/x-python",
      "name": "python",
      "nbconvert_exporter": "python",
      "pygments_lexer": "ipython3",
      "version": "3.7.10"
    },
    "papermill": {
      "default_parameters": {},
      "duration": 191.168888,
      "end_time": "2021-07-30T22:41:47.939370",
      "environment_variables": {},
      "exception": null,
      "input_path": "__notebook__.ipynb",
      "output_path": "__notebook__.ipynb",
      "parameters": {},
      "start_time": "2021-07-30T22:38:36.770482",
      "version": "2.3.3"
    },
    "colab": {
      "name": "bitcoinprediction.ipynb",
      "provenance": []
    }
  },
  "cells": [
    {
      "cell_type": "markdown",
      "metadata": {
        "id": "da83e24f",
        "papermill": {
          "duration": 0.040701,
          "end_time": "2021-07-30T22:38:46.185827",
          "exception": false,
          "start_time": "2021-07-30T22:38:46.145126",
          "status": "completed"
        },
        "tags": []
      },
      "source": [
        "## **1. Data Preprocessing and Data Cleaning**\n",
        "## DATASET: \n",
        "[Link to the dataset](https://www.kaggle.com/mczielinski/bitcoin-historical-data/code)"
      ],
      "id": "da83e24f"
    },
    {
      "cell_type": "code",
      "metadata": {
        "execution": {
          "iopub.execute_input": "2021-07-30T22:38:46.271474Z",
          "iopub.status.busy": "2021-07-30T22:38:46.270290Z",
          "iopub.status.idle": "2021-07-30T22:38:47.562012Z",
          "shell.execute_reply": "2021-07-30T22:38:47.560647Z",
          "shell.execute_reply.started": "2021-07-30T02:24:30.69371Z"
        },
        "id": "b41c4938",
        "papermill": {
          "duration": 1.336202,
          "end_time": "2021-07-30T22:38:47.562233",
          "exception": false,
          "start_time": "2021-07-30T22:38:46.226031",
          "status": "completed"
        },
        "tags": []
      },
      "source": [
        "''' Importing all the libraries necessary for data preprocessing and cleaning '''\n",
        "\n",
        "import numpy as np\n",
        "import pandas as pd\n",
        "import matplotlib.pyplot as plt\n",
        "from sklearn.metrics import mean_squared_error\n",
        "from math import sqrt\n",
        "from pandas.plotting import autocorrelation_plot"
      ],
      "id": "b41c4938",
      "execution_count": null,
      "outputs": []
    },
    {
      "cell_type": "code",
      "metadata": {
        "execution": {
          "iopub.execute_input": "2021-07-30T22:38:47.663242Z",
          "iopub.status.busy": "2021-07-30T22:38:47.662257Z",
          "iopub.status.idle": "2021-07-30T22:38:55.832966Z",
          "shell.execute_reply": "2021-07-30T22:38:55.831673Z",
          "shell.execute_reply.started": "2021-07-30T02:29:51.43422Z"
        },
        "id": "adcd9a2f",
        "papermill": {
          "duration": 8.223482,
          "end_time": "2021-07-30T22:38:55.833199",
          "exception": false,
          "start_time": "2021-07-30T22:38:47.609717",
          "status": "completed"
        },
        "tags": [],
        "colab": {
          "base_uri": "https://localhost:8080/",
          "height": 206
        },
        "outputId": "f2b51085-0ac2-4e4d-8c63-912b029af76b"
      },
      "source": [
        "''' Read the dataset into a dataframe ''' \n",
        "\n",
        "df = pd.read_csv('bitcoin.csv')\n",
        "df.head()"
      ],
      "id": "adcd9a2f",
      "execution_count": null,
      "outputs": [
        {
          "output_type": "execute_result",
          "data": {
            "text/html": [
              "<div>\n",
              "<style scoped>\n",
              "    .dataframe tbody tr th:only-of-type {\n",
              "        vertical-align: middle;\n",
              "    }\n",
              "\n",
              "    .dataframe tbody tr th {\n",
              "        vertical-align: top;\n",
              "    }\n",
              "\n",
              "    .dataframe thead th {\n",
              "        text-align: right;\n",
              "    }\n",
              "</style>\n",
              "<table border=\"1\" class=\"dataframe\">\n",
              "  <thead>\n",
              "    <tr style=\"text-align: right;\">\n",
              "      <th></th>\n",
              "      <th>Timestamp</th>\n",
              "      <th>Open</th>\n",
              "      <th>High</th>\n",
              "      <th>Low</th>\n",
              "      <th>Close</th>\n",
              "      <th>Volume_(BTC)</th>\n",
              "      <th>Volume_(Currency)</th>\n",
              "      <th>Weighted_Price</th>\n",
              "    </tr>\n",
              "  </thead>\n",
              "  <tbody>\n",
              "    <tr>\n",
              "      <th>0</th>\n",
              "      <td>1325317920</td>\n",
              "      <td>4.39</td>\n",
              "      <td>4.39</td>\n",
              "      <td>4.39</td>\n",
              "      <td>4.39</td>\n",
              "      <td>0.455581</td>\n",
              "      <td>2.0</td>\n",
              "      <td>4.39</td>\n",
              "    </tr>\n",
              "    <tr>\n",
              "      <th>1</th>\n",
              "      <td>1325317980</td>\n",
              "      <td>NaN</td>\n",
              "      <td>NaN</td>\n",
              "      <td>NaN</td>\n",
              "      <td>NaN</td>\n",
              "      <td>NaN</td>\n",
              "      <td>NaN</td>\n",
              "      <td>NaN</td>\n",
              "    </tr>\n",
              "    <tr>\n",
              "      <th>2</th>\n",
              "      <td>1325318040</td>\n",
              "      <td>NaN</td>\n",
              "      <td>NaN</td>\n",
              "      <td>NaN</td>\n",
              "      <td>NaN</td>\n",
              "      <td>NaN</td>\n",
              "      <td>NaN</td>\n",
              "      <td>NaN</td>\n",
              "    </tr>\n",
              "    <tr>\n",
              "      <th>3</th>\n",
              "      <td>1325318100</td>\n",
              "      <td>NaN</td>\n",
              "      <td>NaN</td>\n",
              "      <td>NaN</td>\n",
              "      <td>NaN</td>\n",
              "      <td>NaN</td>\n",
              "      <td>NaN</td>\n",
              "      <td>NaN</td>\n",
              "    </tr>\n",
              "    <tr>\n",
              "      <th>4</th>\n",
              "      <td>1325318160</td>\n",
              "      <td>NaN</td>\n",
              "      <td>NaN</td>\n",
              "      <td>NaN</td>\n",
              "      <td>NaN</td>\n",
              "      <td>NaN</td>\n",
              "      <td>NaN</td>\n",
              "      <td>NaN</td>\n",
              "    </tr>\n",
              "  </tbody>\n",
              "</table>\n",
              "</div>"
            ],
            "text/plain": [
              "    Timestamp  Open  High  ...  Volume_(BTC)  Volume_(Currency)  Weighted_Price\n",
              "0  1325317920  4.39  4.39  ...      0.455581                2.0            4.39\n",
              "1  1325317980   NaN   NaN  ...           NaN                NaN             NaN\n",
              "2  1325318040   NaN   NaN  ...           NaN                NaN             NaN\n",
              "3  1325318100   NaN   NaN  ...           NaN                NaN             NaN\n",
              "4  1325318160   NaN   NaN  ...           NaN                NaN             NaN\n",
              "\n",
              "[5 rows x 8 columns]"
            ]
          },
          "metadata": {},
          "execution_count": 289
        }
      ]
    },
    {
      "cell_type": "code",
      "metadata": {
        "execution": {
          "iopub.execute_input": "2021-07-30T22:38:55.928396Z",
          "iopub.status.busy": "2021-07-30T22:38:55.927651Z",
          "iopub.status.idle": "2021-07-30T22:38:56.375979Z",
          "shell.execute_reply": "2021-07-30T22:38:56.374731Z",
          "shell.execute_reply.started": "2021-07-30T02:30:01.918387Z"
        },
        "id": "7edf3cf6",
        "papermill": {
          "duration": 0.499824,
          "end_time": "2021-07-30T22:38:56.376184",
          "exception": false,
          "start_time": "2021-07-30T22:38:55.876360",
          "status": "completed"
        },
        "tags": [],
        "colab": {
          "base_uri": "https://localhost:8080/",
          "height": 238
        },
        "outputId": "91da9d84-5dba-417f-b62e-5bd8d5d04a2a"
      },
      "source": [
        "'''The data is first imported from the dataset. \n",
        "We removed all the columns with missing values or the wrong timestamp. \n",
        "In addition to that, we also removed all the values before 2017 \n",
        "because the plot before 2017 is significantly different from the plot after 2017.'''\n",
        "\n",
        "\n",
        "df.Timestamp = pd.to_datetime(df.Timestamp, unit='s') # Convert the timestmp into datetime64 format\n",
        "df.index = df.Timestamp # Set the index to datetime\n",
        "df = df.resample('D').mean() # Resample the data to the average daily value of each column. This removes high frequencies\n",
        "df = df.dropna() # Remove/Drop all the missing values \n",
        "\n",
        "df.head()"
      ],
      "id": "7edf3cf6",
      "execution_count": null,
      "outputs": [
        {
          "output_type": "execute_result",
          "data": {
            "text/html": [
              "<div>\n",
              "<style scoped>\n",
              "    .dataframe tbody tr th:only-of-type {\n",
              "        vertical-align: middle;\n",
              "    }\n",
              "\n",
              "    .dataframe tbody tr th {\n",
              "        vertical-align: top;\n",
              "    }\n",
              "\n",
              "    .dataframe thead th {\n",
              "        text-align: right;\n",
              "    }\n",
              "</style>\n",
              "<table border=\"1\" class=\"dataframe\">\n",
              "  <thead>\n",
              "    <tr style=\"text-align: right;\">\n",
              "      <th></th>\n",
              "      <th>Open</th>\n",
              "      <th>High</th>\n",
              "      <th>Low</th>\n",
              "      <th>Close</th>\n",
              "      <th>Volume_(BTC)</th>\n",
              "      <th>Volume_(Currency)</th>\n",
              "      <th>Weighted_Price</th>\n",
              "    </tr>\n",
              "    <tr>\n",
              "      <th>Timestamp</th>\n",
              "      <th></th>\n",
              "      <th></th>\n",
              "      <th></th>\n",
              "      <th></th>\n",
              "      <th></th>\n",
              "      <th></th>\n",
              "      <th></th>\n",
              "    </tr>\n",
              "  </thead>\n",
              "  <tbody>\n",
              "    <tr>\n",
              "      <th>2011-12-31</th>\n",
              "      <td>4.465000</td>\n",
              "      <td>4.482500</td>\n",
              "      <td>4.465000</td>\n",
              "      <td>4.482500</td>\n",
              "      <td>23.829470</td>\n",
              "      <td>106.330084</td>\n",
              "      <td>4.471603</td>\n",
              "    </tr>\n",
              "    <tr>\n",
              "      <th>2012-01-01</th>\n",
              "      <td>4.806667</td>\n",
              "      <td>4.806667</td>\n",
              "      <td>4.806667</td>\n",
              "      <td>4.806667</td>\n",
              "      <td>7.200667</td>\n",
              "      <td>35.259720</td>\n",
              "      <td>4.806667</td>\n",
              "    </tr>\n",
              "    <tr>\n",
              "      <th>2012-01-02</th>\n",
              "      <td>5.000000</td>\n",
              "      <td>5.000000</td>\n",
              "      <td>5.000000</td>\n",
              "      <td>5.000000</td>\n",
              "      <td>19.048000</td>\n",
              "      <td>95.240000</td>\n",
              "      <td>5.000000</td>\n",
              "    </tr>\n",
              "    <tr>\n",
              "      <th>2012-01-03</th>\n",
              "      <td>5.252500</td>\n",
              "      <td>5.252500</td>\n",
              "      <td>5.252500</td>\n",
              "      <td>5.252500</td>\n",
              "      <td>11.004660</td>\n",
              "      <td>58.100651</td>\n",
              "      <td>5.252500</td>\n",
              "    </tr>\n",
              "    <tr>\n",
              "      <th>2012-01-04</th>\n",
              "      <td>5.200000</td>\n",
              "      <td>5.223333</td>\n",
              "      <td>5.200000</td>\n",
              "      <td>5.223333</td>\n",
              "      <td>11.914807</td>\n",
              "      <td>63.119577</td>\n",
              "      <td>5.208159</td>\n",
              "    </tr>\n",
              "  </tbody>\n",
              "</table>\n",
              "</div>"
            ],
            "text/plain": [
              "                Open      High  ...  Volume_(Currency)  Weighted_Price\n",
              "Timestamp                       ...                                   \n",
              "2011-12-31  4.465000  4.482500  ...         106.330084        4.471603\n",
              "2012-01-01  4.806667  4.806667  ...          35.259720        4.806667\n",
              "2012-01-02  5.000000  5.000000  ...          95.240000        5.000000\n",
              "2012-01-03  5.252500  5.252500  ...          58.100651        5.252500\n",
              "2012-01-04  5.200000  5.223333  ...          63.119577        5.208159\n",
              "\n",
              "[5 rows x 7 columns]"
            ]
          },
          "metadata": {},
          "execution_count": 290
        }
      ]
    },
    {
      "cell_type": "code",
      "metadata": {
        "execution": {
          "iopub.execute_input": "2021-07-30T22:38:56.492258Z",
          "iopub.status.busy": "2021-07-30T22:38:56.491449Z",
          "iopub.status.idle": "2021-07-30T22:38:56.495614Z",
          "shell.execute_reply": "2021-07-30T22:38:56.496159Z",
          "shell.execute_reply.started": "2021-07-30T02:30:05.819188Z"
        },
        "id": "15e2234e",
        "papermill": {
          "duration": 0.062791,
          "end_time": "2021-07-30T22:38:56.496377",
          "exception": false,
          "start_time": "2021-07-30T22:38:56.433586",
          "status": "completed"
        },
        "tags": [],
        "colab": {
          "base_uri": "https://localhost:8080/"
        },
        "outputId": "2f448dae-3484-4b7d-ae3c-3c423b11d0c3"
      },
      "source": [
        "print(df.shape) # Print the shape of the new data"
      ],
      "id": "15e2234e",
      "execution_count": null,
      "outputs": [
        {
          "output_type": "stream",
          "name": "stdout",
          "text": [
            "(3376, 7)\n"
          ]
        }
      ]
    },
    {
      "cell_type": "code",
      "metadata": {
        "execution": {
          "iopub.execute_input": "2021-07-30T22:38:56.585199Z",
          "iopub.status.busy": "2021-07-30T22:38:56.584347Z",
          "iopub.status.idle": "2021-07-30T22:38:56.901306Z",
          "shell.execute_reply": "2021-07-30T22:38:56.900125Z",
          "shell.execute_reply.started": "2021-07-30T02:30:11.621227Z"
        },
        "id": "ec03e3d4",
        "papermill": {
          "duration": 0.363737,
          "end_time": "2021-07-30T22:38:56.901472",
          "exception": false,
          "start_time": "2021-07-30T22:38:56.537735",
          "status": "completed"
        },
        "tags": [],
        "colab": {
          "base_uri": "https://localhost:8080/",
          "height": 383
        },
        "outputId": "c41e745a-cef7-4f08-acfd-8535ebb27cb8"
      },
      "source": [
        "'''By plotting the graph we observe that the graph after 2017 is significantly\n",
        " different from the graph before 2017 so we remove all the values before it '''\n",
        "\n",
        "\n",
        "df.Weighted_Price.plot(title = \"Bitcoin Price\", figsize=(10,6)) # Plot the price vs year graph\n",
        "plt.xlabel('Year')\n",
        "plt.ylabel('US Dollars')\n",
        "plt.show()"
      ],
      "id": "ec03e3d4",
      "execution_count": null,
      "outputs": [
        {
          "output_type": "display_data",
          "data": {
            "image/png": "[encoded data removed]",
            "text/plain": [
              "<Figure size 720x432 with 1 Axes>"
            ]
          },
          "metadata": {
            "needs_background": "light"
          }
        }
      ]
    },
    {
      "cell_type": "code",
      "metadata": {
        "execution": {
          "iopub.execute_input": "2021-07-30T22:38:57.018807Z",
          "iopub.status.busy": "2021-07-30T22:38:57.017428Z",
          "iopub.status.idle": "2021-07-30T22:38:57.349281Z",
          "shell.execute_reply": "2021-07-30T22:38:57.348680Z",
          "shell.execute_reply.started": "2021-07-30T02:30:17.997536Z"
        },
        "id": "70ce3c82",
        "papermill": {
          "duration": 0.405045,
          "end_time": "2021-07-30T22:38:57.349453",
          "exception": false,
          "start_time": "2021-07-30T22:38:56.944408",
          "status": "completed"
        },
        "tags": [],
        "colab": {
          "base_uri": "https://localhost:8080/",
          "height": 283
        },
        "outputId": "0da2cb82-ec67-470d-d6ea-1f200d0270e4"
      },
      "source": [
        "''' To check if there are a large number of gaps in the time series '''\n",
        "\n",
        "autocorrelation_plot(df) # To draw an autocorrelation plot\n",
        "plt.show()"
      ],
      "id": "70ce3c82",
      "execution_count": null,
      "outputs": [
        {
          "output_type": "display_data",
          "data": {
            "image/png": "[encoded data removed]",
            "text/plain": [
              "<Figure size 432x288 with 1 Axes>"
            ]
          },
          "metadata": {
            "needs_background": "light"
          }
        }
      ]
    },
    {
      "cell_type": "code",
      "metadata": {
        "execution": {
          "iopub.execute_input": "2021-07-30T22:38:57.908810Z",
          "iopub.status.busy": "2021-07-30T22:38:57.907696Z",
          "iopub.status.idle": "2021-07-30T22:39:03.189443Z",
          "shell.execute_reply": "2021-07-30T22:39:03.190246Z",
          "shell.execute_reply.started": "2021-07-30T02:32:17.774244Z"
        },
        "id": "a82ff355",
        "papermill": {
          "duration": 5.336756,
          "end_time": "2021-07-30T22:39:03.190524",
          "exception": false,
          "start_time": "2021-07-30T22:38:57.853768",
          "status": "completed"
        },
        "tags": [],
        "colab": {
          "base_uri": "https://localhost:8080/"
        },
        "outputId": "317d18fd-45f5-420d-9787-06a9a14e22c5"
      },
      "source": [
        "''' Choosing only the data of the last 4 years and the other data doesn't follow the same pattern. \n",
        "This data looks much more relevant for training a model '''\n",
        "\n",
        "df2 = df.loc['2017-03-01':'2021-03-01'] # Dropping all the values before 2017 March and all the values after 2021 March\n",
        "df2 = df2.iloc[(-365*4):] # Checking if the same of the data is same as the other data\n",
        "print(df2.shape) # Print the data "
      ],
      "id": "a82ff355",
      "execution_count": null,
      "outputs": [
        {
          "output_type": "stream",
          "name": "stdout",
          "text": [
            "(1460, 7)\n"
          ]
        }
      ]
    },
    {
      "cell_type": "code",
      "metadata": {
        "execution": {
          "iopub.execute_input": "2021-07-30T22:39:03.299947Z",
          "iopub.status.busy": "2021-07-30T22:39:03.298902Z",
          "iopub.status.idle": "2021-07-30T22:39:03.847855Z",
          "shell.execute_reply": "2021-07-30T22:39:03.847226Z",
          "shell.execute_reply.started": "2021-07-30T02:32:35.190754Z"
        },
        "id": "761d2b3c",
        "papermill": {
          "duration": 0.611387,
          "end_time": "2021-07-30T22:39:03.848032",
          "exception": false,
          "start_time": "2021-07-30T22:39:03.236645",
          "status": "completed"
        },
        "tags": [],
        "colab": {
          "base_uri": "https://localhost:8080/",
          "height": 416
        },
        "outputId": "9ce9c826-f18e-4869-d253-1690488807ca"
      },
      "source": [
        "''' Plotting the graph again '''\n",
        "\n",
        "df2.Weighted_Price.plot(title = \"Bitcoin Price\", figsize=(10,6)) \n",
        "plt.ylabel('Price in $')\n",
        "plt.xlabel('Dates')\n",
        "plt.show()"
      ],
      "id": "761d2b3c",
      "execution_count": null,
      "outputs": [
        {
          "output_type": "display_data",
          "data": {
            "image/png": "[encoded data removed]",
            "text/plain": [
              "<Figure size 720x432 with 1 Axes>"
            ]
          },
          "metadata": {
            "needs_background": "light"
          }
        }
      ]
    },
    {
      "cell_type": "code",
      "metadata": {
        "colab": {
          "base_uri": "https://localhost:8080/",
          "height": 238
        },
        "id": "xTgPcWibjjwp",
        "outputId": "44a9e519-a54b-4ca3-fbb0-00903aae714c"
      },
      "source": [
        "df2.head()"
      ],
      "id": "xTgPcWibjjwp",
      "execution_count": null,
      "outputs": [
        {
          "output_type": "execute_result",
          "data": {
            "text/html": [
              "<div>\n",
              "<style scoped>\n",
              "    .dataframe tbody tr th:only-of-type {\n",
              "        vertical-align: middle;\n",
              "    }\n",
              "\n",
              "    .dataframe tbody tr th {\n",
              "        vertical-align: top;\n",
              "    }\n",
              "\n",
              "    .dataframe thead th {\n",
              "        text-align: right;\n",
              "    }\n",
              "</style>\n",
              "<table border=\"1\" class=\"dataframe\">\n",
              "  <thead>\n",
              "    <tr style=\"text-align: right;\">\n",
              "      <th></th>\n",
              "      <th>Open</th>\n",
              "      <th>High</th>\n",
              "      <th>Low</th>\n",
              "      <th>Close</th>\n",
              "      <th>Volume_(BTC)</th>\n",
              "      <th>Volume_(Currency)</th>\n",
              "      <th>Weighted_Price</th>\n",
              "    </tr>\n",
              "    <tr>\n",
              "      <th>Timestamp</th>\n",
              "      <th></th>\n",
              "      <th></th>\n",
              "      <th></th>\n",
              "      <th></th>\n",
              "      <th></th>\n",
              "      <th></th>\n",
              "      <th></th>\n",
              "    </tr>\n",
              "  </thead>\n",
              "  <tbody>\n",
              "    <tr>\n",
              "      <th>2017-03-03</th>\n",
              "      <td>1272.931159</td>\n",
              "      <td>1273.464490</td>\n",
              "      <td>1272.368521</td>\n",
              "      <td>1272.955502</td>\n",
              "      <td>6.527229</td>\n",
              "      <td>8318.034966</td>\n",
              "      <td>1272.937727</td>\n",
              "    </tr>\n",
              "    <tr>\n",
              "      <th>2017-03-04</th>\n",
              "      <td>1267.666085</td>\n",
              "      <td>1268.148149</td>\n",
              "      <td>1267.194253</td>\n",
              "      <td>1267.721610</td>\n",
              "      <td>4.774573</td>\n",
              "      <td>6015.045229</td>\n",
              "      <td>1267.697008</td>\n",
              "    </tr>\n",
              "    <tr>\n",
              "      <th>2017-03-05</th>\n",
              "      <td>1258.482860</td>\n",
              "      <td>1259.020305</td>\n",
              "      <td>1258.053284</td>\n",
              "      <td>1258.495572</td>\n",
              "      <td>2.248156</td>\n",
              "      <td>2830.257382</td>\n",
              "      <td>1258.652090</td>\n",
              "    </tr>\n",
              "    <tr>\n",
              "      <th>2017-03-06</th>\n",
              "      <td>1274.775219</td>\n",
              "      <td>1275.101769</td>\n",
              "      <td>1274.483324</td>\n",
              "      <td>1274.813197</td>\n",
              "      <td>4.129881</td>\n",
              "      <td>5268.000907</td>\n",
              "      <td>1274.807021</td>\n",
              "    </tr>\n",
              "    <tr>\n",
              "      <th>2017-03-07</th>\n",
              "      <td>1252.030105</td>\n",
              "      <td>1252.635314</td>\n",
              "      <td>1251.352465</td>\n",
              "      <td>1252.011986</td>\n",
              "      <td>12.587141</td>\n",
              "      <td>15581.663422</td>\n",
              "      <td>1251.992528</td>\n",
              "    </tr>\n",
              "  </tbody>\n",
              "</table>\n",
              "</div>"
            ],
            "text/plain": [
              "                   Open         High  ...  Volume_(Currency)  Weighted_Price\n",
              "Timestamp                             ...                                   \n",
              "2017-03-03  1272.931159  1273.464490  ...        8318.034966     1272.937727\n",
              "2017-03-04  1267.666085  1268.148149  ...        6015.045229     1267.697008\n",
              "2017-03-05  1258.482860  1259.020305  ...        2830.257382     1258.652090\n",
              "2017-03-06  1274.775219  1275.101769  ...        5268.000907     1274.807021\n",
              "2017-03-07  1252.030105  1252.635314  ...       15581.663422     1251.992528\n",
              "\n",
              "[5 rows x 7 columns]"
            ]
          },
          "metadata": {},
          "execution_count": 296
        }
      ]
    },
    {
      "cell_type": "markdown",
      "metadata": {
        "id": "ca61f043",
        "papermill": {
          "duration": 0.156978,
          "end_time": "2021-07-30T22:41:17.542539",
          "exception": false,
          "start_time": "2021-07-30T22:41:17.385561",
          "status": "completed"
        },
        "tags": []
      },
      "source": [
        "## **4. RNN - LSTM IMPLEMENTATION**\n"
      ],
      "id": "ca61f043"
    },
    {
      "cell_type": "code",
      "metadata": {
        "execution": {
          "iopub.execute_input": "2021-07-30T22:41:17.867052Z",
          "iopub.status.busy": "2021-07-30T22:41:17.866274Z",
          "iopub.status.idle": "2021-07-30T22:41:23.659240Z",
          "shell.execute_reply": "2021-07-30T22:41:23.659786Z",
          "shell.execute_reply.started": "2021-07-30T02:42:11.081596Z"
        },
        "id": "a1c30b1e",
        "papermill": {
          "duration": 5.959392,
          "end_time": "2021-07-30T22:41:23.659995",
          "exception": false,
          "start_time": "2021-07-30T22:41:17.700603",
          "status": "completed"
        },
        "tags": []
      },
      "source": [
        "''' Importing all the libraries '''\n",
        "\n",
        "from sklearn.preprocessing import MinMaxScaler\n",
        "from tensorflow import keras\n",
        "from tensorflow.keras.layers import Dense, LSTM, Dropout,Flatten\n",
        "from tensorflow.keras import Sequential\n",
        "from statsmodels.graphics.tsaplots import plot_acf\n",
        "from sklearn.model_selection import train_test_split"
      ],
      "id": "a1c30b1e",
      "execution_count": null,
      "outputs": []
    },
    {
      "cell_type": "code",
      "metadata": {
        "colab": {
          "base_uri": "https://localhost:8080/",
          "height": 238
        },
        "id": "Kqpf_lLNsRgt",
        "outputId": "f6862911-3dee-4c44-ccfd-d66eebc13be0"
      },
      "source": [
        "df2.head()"
      ],
      "id": "Kqpf_lLNsRgt",
      "execution_count": null,
      "outputs": [
        {
          "output_type": "execute_result",
          "data": {
            "text/html": [
              "<div>\n",
              "<style scoped>\n",
              "    .dataframe tbody tr th:only-of-type {\n",
              "        vertical-align: middle;\n",
              "    }\n",
              "\n",
              "    .dataframe tbody tr th {\n",
              "        vertical-align: top;\n",
              "    }\n",
              "\n",
              "    .dataframe thead th {\n",
              "        text-align: right;\n",
              "    }\n",
              "</style>\n",
              "<table border=\"1\" class=\"dataframe\">\n",
              "  <thead>\n",
              "    <tr style=\"text-align: right;\">\n",
              "      <th></th>\n",
              "      <th>Open</th>\n",
              "      <th>High</th>\n",
              "      <th>Low</th>\n",
              "      <th>Close</th>\n",
              "      <th>Volume_(BTC)</th>\n",
              "      <th>Volume_(Currency)</th>\n",
              "      <th>Weighted_Price</th>\n",
              "    </tr>\n",
              "    <tr>\n",
              "      <th>Timestamp</th>\n",
              "      <th></th>\n",
              "      <th></th>\n",
              "      <th></th>\n",
              "      <th></th>\n",
              "      <th></th>\n",
              "      <th></th>\n",
              "      <th></th>\n",
              "    </tr>\n",
              "  </thead>\n",
              "  <tbody>\n",
              "    <tr>\n",
              "      <th>2017-03-03</th>\n",
              "      <td>1272.931159</td>\n",
              "      <td>1273.464490</td>\n",
              "      <td>1272.368521</td>\n",
              "      <td>1272.955502</td>\n",
              "      <td>6.527229</td>\n",
              "      <td>8318.034966</td>\n",
              "      <td>1272.937727</td>\n",
              "    </tr>\n",
              "    <tr>\n",
              "      <th>2017-03-04</th>\n",
              "      <td>1267.666085</td>\n",
              "      <td>1268.148149</td>\n",
              "      <td>1267.194253</td>\n",
              "      <td>1267.721610</td>\n",
              "      <td>4.774573</td>\n",
              "      <td>6015.045229</td>\n",
              "      <td>1267.697008</td>\n",
              "    </tr>\n",
              "    <tr>\n",
              "      <th>2017-03-05</th>\n",
              "      <td>1258.482860</td>\n",
              "      <td>1259.020305</td>\n",
              "      <td>1258.053284</td>\n",
              "      <td>1258.495572</td>\n",
              "      <td>2.248156</td>\n",
              "      <td>2830.257382</td>\n",
              "      <td>1258.652090</td>\n",
              "    </tr>\n",
              "    <tr>\n",
              "      <th>2017-03-06</th>\n",
              "      <td>1274.775219</td>\n",
              "      <td>1275.101769</td>\n",
              "      <td>1274.483324</td>\n",
              "      <td>1274.813197</td>\n",
              "      <td>4.129881</td>\n",
              "      <td>5268.000907</td>\n",
              "      <td>1274.807021</td>\n",
              "    </tr>\n",
              "    <tr>\n",
              "      <th>2017-03-07</th>\n",
              "      <td>1252.030105</td>\n",
              "      <td>1252.635314</td>\n",
              "      <td>1251.352465</td>\n",
              "      <td>1252.011986</td>\n",
              "      <td>12.587141</td>\n",
              "      <td>15581.663422</td>\n",
              "      <td>1251.992528</td>\n",
              "    </tr>\n",
              "  </tbody>\n",
              "</table>\n",
              "</div>"
            ],
            "text/plain": [
              "                   Open         High  ...  Volume_(Currency)  Weighted_Price\n",
              "Timestamp                             ...                                   \n",
              "2017-03-03  1272.931159  1273.464490  ...        8318.034966     1272.937727\n",
              "2017-03-04  1267.666085  1268.148149  ...        6015.045229     1267.697008\n",
              "2017-03-05  1258.482860  1259.020305  ...        2830.257382     1258.652090\n",
              "2017-03-06  1274.775219  1275.101769  ...        5268.000907     1274.807021\n",
              "2017-03-07  1252.030105  1252.635314  ...       15581.663422     1251.992528\n",
              "\n",
              "[5 rows x 7 columns]"
            ]
          },
          "metadata": {},
          "execution_count": 298
        }
      ]
    },
    {
      "cell_type": "code",
      "metadata": {
        "id": "mHqzppXyNgwm"
      },
      "source": [
        "''' Train Test Split using the train_test_split method which takes the input, output values as well as test_size'''\n",
        "\n",
        "X = df2.drop('Weighted_Price',axis=1)\n",
        "y = df2['Weighted_Price']\n",
        "\n",
        "X_train, X_test, y_train, y_test = train_test_split(X,y,test_size=0.3,random_state=101)  # Train test split\n",
        "y_train = np.array(y_train)  # Converting the training data into a numpy array\n",
        "y_test = np.array(y_test) # Converting the training data into a numpy array\n",
        "y_train = y_train.reshape(len(y_train), 1) # Reshaping our y train data to suitable shape\n",
        "y_test = y_test.reshape(len(y_test), 1) # Reshaping our y test data to suitable shape\n"
      ],
      "id": "mHqzppXyNgwm",
      "execution_count": null,
      "outputs": []
    },
    {
      "cell_type": "code",
      "metadata": {
        "id": "N1Dt86Bns1iJ"
      },
      "source": [
        "# Scaling our data for inputting into our model\n",
        "from sklearn.preprocessing import MinMaxScaler\n",
        "scaler_x = MinMaxScaler() \n",
        "scaler_y = MinMaxScaler()\n",
        "x_train= scaler_x.fit_transform(X_train) \n",
        "x_test = scaler_x.transform(X_test) \n",
        "y_train = scaler_y.fit_transform(y_train)\n",
        "y_test = scaler_y.transform(y_test)\n",
        "x_train = np.reshape(x_train, (len(x_train), 1, 6)) \n",
        "x_test = np.reshape(x_test, (len(x_test), 1, 6)) "
      ],
      "id": "N1Dt86Bns1iJ",
      "execution_count": null,
      "outputs": []
    },
    {
      "cell_type": "code",
      "metadata": {
        "execution": {
          "iopub.execute_input": "2021-07-30T22:41:24.333402Z",
          "iopub.status.busy": "2021-07-30T22:41:24.332640Z",
          "iopub.status.idle": "2021-07-30T22:41:24.557780Z",
          "shell.execute_reply": "2021-07-30T22:41:24.556967Z",
          "shell.execute_reply.started": "2021-07-30T02:42:22.799947Z"
        },
        "id": "76309d3d",
        "papermill": {
          "duration": 0.396773,
          "end_time": "2021-07-30T22:41:24.557983",
          "exception": false,
          "start_time": "2021-07-30T22:41:24.161210",
          "status": "completed"
        },
        "tags": []
      },
      "source": [
        "'''\n",
        " Preparing the model\n",
        "'''\n",
        "model = Sequential()\n",
        "model.add(LSTM(10,input_shape = (None,6), activation=\"relu\", return_sequences=True))\n",
        "model.add(Dense(1))"
      ],
      "id": "76309d3d",
      "execution_count": null,
      "outputs": []
    },
    {
      "cell_type": "code",
      "metadata": {
        "execution": {
          "iopub.execute_input": "2021-07-30T22:41:24.892432Z",
          "iopub.status.busy": "2021-07-30T22:41:24.891756Z",
          "iopub.status.idle": "2021-07-30T22:41:24.910683Z",
          "shell.execute_reply": "2021-07-30T22:41:24.910107Z",
          "shell.execute_reply.started": "2021-07-30T02:42:25.356819Z"
        },
        "id": "9b7c217a",
        "papermill": {
          "duration": 0.192283,
          "end_time": "2021-07-30T22:41:24.910843",
          "exception": false,
          "start_time": "2021-07-30T22:41:24.718560",
          "status": "completed"
        },
        "tags": []
      },
      "source": [
        "''' \n",
        "Compile the model\n",
        "'''\n",
        "model.compile(loss=\"mean_squared_error\",optimizer=\"adam\")"
      ],
      "id": "9b7c217a",
      "execution_count": null,
      "outputs": []
    },
    {
      "cell_type": "code",
      "metadata": {
        "execution": {
          "iopub.execute_input": "2021-07-30T22:41:25.231106Z",
          "iopub.status.busy": "2021-07-30T22:41:25.230096Z",
          "iopub.status.idle": "2021-07-30T22:41:30.157195Z",
          "shell.execute_reply": "2021-07-30T22:41:30.157698Z",
          "shell.execute_reply.started": "2021-07-30T02:42:27.443638Z"
        },
        "id": "4c006659",
        "papermill": {
          "duration": 5.089315,
          "end_time": "2021-07-30T22:41:30.157924",
          "exception": false,
          "start_time": "2021-07-30T22:41:25.068609",
          "status": "completed"
        },
        "tags": [],
        "colab": {
          "base_uri": "https://localhost:8080/"
        },
        "outputId": "906d306f-bb9f-47d7-cf1e-8cba725378a2"
      },
      "source": [
        "#fit the model to the training data\n",
        "model.fit(x_train,y_train,epochs=100,batch_size=32)"
      ],
      "id": "4c006659",
      "execution_count": null,
      "outputs": [
        {
          "output_type": "stream",
          "name": "stdout",
          "text": [
            "Epoch 1/100\n",
            "32/32 [==============================] - 1s 2ms/step - loss: 0.0342\n",
            "Epoch 2/100\n",
            "32/32 [==============================] - 0s 2ms/step - loss: 0.0221\n",
            "Epoch 3/100\n",
            "32/32 [==============================] - 0s 2ms/step - loss: 0.0151\n",
            "Epoch 4/100\n",
            "32/32 [==============================] - 0s 3ms/step - loss: 0.0110\n",
            "Epoch 5/100\n",
            "32/32 [==============================] - 0s 2ms/step - loss: 0.0077\n",
            "Epoch 6/100\n",
            "32/32 [==============================] - 0s 3ms/step - loss: 0.0048\n",
            "Epoch 7/100\n",
            "32/32 [==============================] - 0s 2ms/step - loss: 0.0026\n",
            "Epoch 8/100\n",
            "32/32 [==============================] - 0s 2ms/step - loss: 0.0011\n",
            "Epoch 9/100\n",
            "32/32 [==============================] - 0s 3ms/step - loss: 4.0700e-04\n",
            "Epoch 10/100\n",
            "32/32 [==============================] - 0s 2ms/step - loss: 1.7368e-04\n",
            "Epoch 11/100\n",
            "32/32 [==============================] - 0s 2ms/step - loss: 1.1439e-04\n",
            "Epoch 12/100\n",
            "32/32 [==============================] - 0s 2ms/step - loss: 9.8881e-05\n",
            "Epoch 13/100\n",
            "32/32 [==============================] - 0s 2ms/step - loss: 9.2906e-05\n",
            "Epoch 14/100\n",
            "32/32 [==============================] - 0s 3ms/step - loss: 8.7936e-05\n",
            "Epoch 15/100\n",
            "32/32 [==============================] - 0s 2ms/step - loss: 8.3235e-05\n",
            "Epoch 16/100\n",
            "32/32 [==============================] - 0s 2ms/step - loss: 7.9388e-05\n",
            "Epoch 17/100\n",
            "32/32 [==============================] - 0s 2ms/step - loss: 7.5643e-05\n",
            "Epoch 18/100\n",
            "32/32 [==============================] - 0s 2ms/step - loss: 7.0312e-05\n",
            "Epoch 19/100\n",
            "32/32 [==============================] - 0s 2ms/step - loss: 6.6583e-05\n",
            "Epoch 20/100\n",
            "32/32 [==============================] - 0s 2ms/step - loss: 6.2420e-05\n",
            "Epoch 21/100\n",
            "32/32 [==============================] - 0s 3ms/step - loss: 5.9391e-05\n",
            "Epoch 22/100\n",
            "32/32 [==============================] - 0s 2ms/step - loss: 5.5594e-05\n",
            "Epoch 23/100\n",
            "32/32 [==============================] - 0s 2ms/step - loss: 5.2010e-05\n",
            "Epoch 24/100\n",
            "32/32 [==============================] - 0s 2ms/step - loss: 4.8837e-05\n",
            "Epoch 25/100\n",
            "32/32 [==============================] - 0s 2ms/step - loss: 4.6122e-05\n",
            "Epoch 26/100\n",
            "32/32 [==============================] - 0s 2ms/step - loss: 4.3220e-05\n",
            "Epoch 27/100\n",
            "32/32 [==============================] - 0s 2ms/step - loss: 4.0142e-05\n",
            "Epoch 28/100\n",
            "32/32 [==============================] - 0s 3ms/step - loss: 3.7533e-05\n",
            "Epoch 29/100\n",
            "32/32 [==============================] - 0s 2ms/step - loss: 3.4981e-05\n",
            "Epoch 30/100\n",
            "32/32 [==============================] - 0s 2ms/step - loss: 3.3165e-05\n",
            "Epoch 31/100\n",
            "32/32 [==============================] - 0s 3ms/step - loss: 3.1047e-05\n",
            "Epoch 32/100\n",
            "32/32 [==============================] - 0s 3ms/step - loss: 2.8785e-05\n",
            "Epoch 33/100\n",
            "32/32 [==============================] - 0s 3ms/step - loss: 2.6895e-05\n",
            "Epoch 34/100\n",
            "32/32 [==============================] - 0s 3ms/step - loss: 2.5381e-05\n",
            "Epoch 35/100\n",
            "32/32 [==============================] - 0s 2ms/step - loss: 2.3507e-05\n",
            "Epoch 36/100\n",
            "32/32 [==============================] - 0s 2ms/step - loss: 2.1883e-05\n",
            "Epoch 37/100\n",
            "32/32 [==============================] - 0s 3ms/step - loss: 2.0412e-05\n",
            "Epoch 38/100\n",
            "32/32 [==============================] - 0s 2ms/step - loss: 1.9229e-05\n",
            "Epoch 39/100\n",
            "32/32 [==============================] - 0s 3ms/step - loss: 1.8183e-05\n",
            "Epoch 40/100\n",
            "32/32 [==============================] - 0s 2ms/step - loss: 1.6571e-05\n",
            "Epoch 41/100\n",
            "32/32 [==============================] - 0s 3ms/step - loss: 1.5464e-05\n",
            "Epoch 42/100\n",
            "32/32 [==============================] - 0s 2ms/step - loss: 1.4757e-05\n",
            "Epoch 43/100\n",
            "32/32 [==============================] - 0s 2ms/step - loss: 1.3758e-05\n",
            "Epoch 44/100\n",
            "32/32 [==============================] - 0s 2ms/step - loss: 1.2694e-05\n",
            "Epoch 45/100\n",
            "32/32 [==============================] - 0s 2ms/step - loss: 1.2009e-05\n",
            "Epoch 46/100\n",
            "32/32 [==============================] - 0s 2ms/step - loss: 1.1466e-05\n",
            "Epoch 47/100\n",
            "32/32 [==============================] - 0s 2ms/step - loss: 1.0850e-05\n",
            "Epoch 48/100\n",
            "32/32 [==============================] - 0s 2ms/step - loss: 1.0028e-05\n",
            "Epoch 49/100\n",
            "32/32 [==============================] - 0s 2ms/step - loss: 9.4777e-06\n",
            "Epoch 50/100\n",
            "32/32 [==============================] - 0s 2ms/step - loss: 8.9630e-06\n",
            "Epoch 51/100\n",
            "32/32 [==============================] - 0s 2ms/step - loss: 8.4268e-06\n",
            "Epoch 52/100\n",
            "32/32 [==============================] - 0s 2ms/step - loss: 7.9639e-06\n",
            "Epoch 53/100\n",
            "32/32 [==============================] - 0s 3ms/step - loss: 7.7310e-06\n",
            "Epoch 54/100\n",
            "32/32 [==============================] - 0s 2ms/step - loss: 7.5055e-06\n",
            "Epoch 55/100\n",
            "32/32 [==============================] - 0s 2ms/step - loss: 6.8551e-06\n",
            "Epoch 56/100\n",
            "32/32 [==============================] - 0s 2ms/step - loss: 6.5962e-06\n",
            "Epoch 57/100\n",
            "32/32 [==============================] - 0s 2ms/step - loss: 6.1171e-06\n",
            "Epoch 58/100\n",
            "32/32 [==============================] - 0s 2ms/step - loss: 5.8088e-06\n",
            "Epoch 59/100\n",
            "32/32 [==============================] - 0s 2ms/step - loss: 5.4864e-06\n",
            "Epoch 60/100\n",
            "32/32 [==============================] - 0s 2ms/step - loss: 5.2857e-06\n",
            "Epoch 61/100\n",
            "32/32 [==============================] - 0s 2ms/step - loss: 4.9900e-06\n",
            "Epoch 62/100\n",
            "32/32 [==============================] - 0s 2ms/step - loss: 4.8124e-06\n",
            "Epoch 63/100\n",
            "32/32 [==============================] - 0s 2ms/step - loss: 4.6666e-06\n",
            "Epoch 64/100\n",
            "32/32 [==============================] - 0s 2ms/step - loss: 4.4655e-06\n",
            "Epoch 65/100\n",
            "32/32 [==============================] - 0s 2ms/step - loss: 4.4162e-06\n",
            "Epoch 66/100\n",
            "32/32 [==============================] - 0s 2ms/step - loss: 4.1571e-06\n",
            "Epoch 67/100\n",
            "32/32 [==============================] - 0s 2ms/step - loss: 4.1896e-06\n",
            "Epoch 68/100\n",
            "32/32 [==============================] - 0s 2ms/step - loss: 4.0264e-06\n",
            "Epoch 69/100\n",
            "32/32 [==============================] - 0s 2ms/step - loss: 3.8365e-06\n",
            "Epoch 70/100\n",
            "32/32 [==============================] - 0s 2ms/step - loss: 3.8190e-06\n",
            "Epoch 71/100\n",
            "32/32 [==============================] - 0s 2ms/step - loss: 3.6639e-06\n",
            "Epoch 72/100\n",
            "32/32 [==============================] - 0s 2ms/step - loss: 3.5402e-06\n",
            "Epoch 73/100\n",
            "32/32 [==============================] - 0s 2ms/step - loss: 3.3816e-06\n",
            "Epoch 74/100\n",
            "32/32 [==============================] - 0s 2ms/step - loss: 3.3590e-06\n",
            "Epoch 75/100\n",
            "32/32 [==============================] - 0s 2ms/step - loss: 3.2651e-06\n",
            "Epoch 76/100\n",
            "32/32 [==============================] - 0s 2ms/step - loss: 3.1779e-06\n",
            "Epoch 77/100\n",
            "32/32 [==============================] - 0s 2ms/step - loss: 3.1172e-06\n",
            "Epoch 78/100\n",
            "32/32 [==============================] - 0s 2ms/step - loss: 3.1391e-06\n",
            "Epoch 79/100\n",
            "32/32 [==============================] - 0s 2ms/step - loss: 3.0492e-06\n",
            "Epoch 80/100\n",
            "32/32 [==============================] - 0s 2ms/step - loss: 2.9543e-06\n",
            "Epoch 81/100\n",
            "32/32 [==============================] - 0s 2ms/step - loss: 2.8862e-06\n",
            "Epoch 82/100\n",
            "32/32 [==============================] - 0s 2ms/step - loss: 2.9121e-06\n",
            "Epoch 83/100\n",
            "32/32 [==============================] - 0s 2ms/step - loss: 2.8273e-06\n",
            "Epoch 84/100\n",
            "32/32 [==============================] - 0s 2ms/step - loss: 2.7417e-06\n",
            "Epoch 85/100\n",
            "32/32 [==============================] - 0s 2ms/step - loss: 2.7305e-06\n",
            "Epoch 86/100\n",
            "32/32 [==============================] - 0s 3ms/step - loss: 2.5726e-06\n",
            "Epoch 87/100\n",
            "32/32 [==============================] - 0s 2ms/step - loss: 2.7163e-06\n",
            "Epoch 88/100\n",
            "32/32 [==============================] - 0s 2ms/step - loss: 2.7035e-06\n",
            "Epoch 89/100\n",
            "32/32 [==============================] - 0s 2ms/step - loss: 2.4205e-06\n",
            "Epoch 90/100\n",
            "32/32 [==============================] - 0s 2ms/step - loss: 2.5831e-06\n",
            "Epoch 91/100\n",
            "32/32 [==============================] - 0s 3ms/step - loss: 2.3716e-06\n",
            "Epoch 92/100\n",
            "32/32 [==============================] - 0s 3ms/step - loss: 2.5442e-06\n",
            "Epoch 93/100\n",
            "32/32 [==============================] - 0s 2ms/step - loss: 2.4477e-06\n",
            "Epoch 94/100\n",
            "32/32 [==============================] - 0s 2ms/step - loss: 2.3252e-06\n",
            "Epoch 95/100\n",
            "32/32 [==============================] - 0s 2ms/step - loss: 2.2596e-06\n",
            "Epoch 96/100\n",
            "32/32 [==============================] - 0s 2ms/step - loss: 2.1132e-06\n",
            "Epoch 97/100\n",
            "32/32 [==============================] - 0s 2ms/step - loss: 2.0792e-06\n",
            "Epoch 98/100\n",
            "32/32 [==============================] - 0s 2ms/step - loss: 2.0192e-06\n",
            "Epoch 99/100\n",
            "32/32 [==============================] - 0s 2ms/step - loss: 2.0042e-06\n",
            "Epoch 100/100\n",
            "32/32 [==============================] - 0s 2ms/step - loss: 2.0556e-06\n"
          ]
        },
        {
          "output_type": "execute_result",
          "data": {
            "text/plain": [
              "<keras.callbacks.History at 0x7f7772ffc150>"
            ]
          },
          "metadata": {},
          "execution_count": 304
        }
      ]
    },
    {
      "cell_type": "code",
      "metadata": {
        "execution": {
          "iopub.execute_input": "2021-07-30T22:41:30.615336Z",
          "iopub.status.busy": "2021-07-30T22:41:30.614352Z",
          "iopub.status.idle": "2021-07-30T22:41:30.874687Z",
          "shell.execute_reply": "2021-07-30T22:41:30.875277Z",
          "shell.execute_reply.started": "2021-07-30T02:42:45.781293Z"
        },
        "id": "c738c280",
        "papermill": {
          "duration": 0.509792,
          "end_time": "2021-07-30T22:41:30.875471",
          "exception": false,
          "start_time": "2021-07-30T22:41:30.365679",
          "status": "completed"
        },
        "tags": []
      },
      "source": [
        "# assign test and predicted values + reshaping + converting back from scaler\n",
        "test_values = x_test\n",
        "predicted_price = model.predict(test_values)\n",
        "predicted_price = np.reshape(predicted_price, (len(predicted_price), 1))\n",
        "predicted_price = scaler.inverse_transform(predicted_price)\n",
        "y_test = scaler.inverse_transform(y_test)"
      ],
      "id": "c738c280",
      "execution_count": null,
      "outputs": []
    },
    {
      "cell_type": "code",
      "metadata": {
        "colab": {
          "base_uri": "https://localhost:8080/"
        },
        "id": "qpQvpJk3krxO",
        "outputId": "bbd1d255-c7b4-45de-c0db-9275a7298abc"
      },
      "source": [
        "print(predicted_price[100])\n",
        "print(y_test[100])"
      ],
      "id": "qpQvpJk3krxO",
      "execution_count": null,
      "outputs": [
        {
          "output_type": "stream",
          "name": "stdout",
          "text": [
            "[3288.5652]\n",
            "[3291.99521681]\n"
          ]
        }
      ]
    },
    {
      "cell_type": "code",
      "metadata": {
        "colab": {
          "base_uri": "https://localhost:8080/",
          "height": 455
        },
        "id": "tyfWWaqDmAkh",
        "outputId": "6679fba6-60fe-49b0-ef1d-71c8304a1035"
      },
      "source": [
        "X_test"
      ],
      "id": "tyfWWaqDmAkh",
      "execution_count": null,
      "outputs": [
        {
          "output_type": "execute_result",
          "data": {
            "text/html": [
              "<div>\n",
              "<style scoped>\n",
              "    .dataframe tbody tr th:only-of-type {\n",
              "        vertical-align: middle;\n",
              "    }\n",
              "\n",
              "    .dataframe tbody tr th {\n",
              "        vertical-align: top;\n",
              "    }\n",
              "\n",
              "    .dataframe thead th {\n",
              "        text-align: right;\n",
              "    }\n",
              "</style>\n",
              "<table border=\"1\" class=\"dataframe\">\n",
              "  <thead>\n",
              "    <tr style=\"text-align: right;\">\n",
              "      <th></th>\n",
              "      <th>Open</th>\n",
              "      <th>High</th>\n",
              "      <th>Low</th>\n",
              "      <th>Close</th>\n",
              "      <th>Volume_(BTC)</th>\n",
              "      <th>Volume_(Currency)</th>\n",
              "    </tr>\n",
              "    <tr>\n",
              "      <th>Timestamp</th>\n",
              "      <th></th>\n",
              "      <th></th>\n",
              "      <th></th>\n",
              "      <th></th>\n",
              "      <th></th>\n",
              "      <th></th>\n",
              "    </tr>\n",
              "  </thead>\n",
              "  <tbody>\n",
              "    <tr>\n",
              "      <th>2020-01-21</th>\n",
              "      <td>8645.480195</td>\n",
              "      <td>8649.571579</td>\n",
              "      <td>8642.046356</td>\n",
              "      <td>8645.604819</td>\n",
              "      <td>2.360702</td>\n",
              "      <td>20386.559122</td>\n",
              "    </tr>\n",
              "    <tr>\n",
              "      <th>2018-02-27</th>\n",
              "      <td>10552.619680</td>\n",
              "      <td>10560.028065</td>\n",
              "      <td>10545.099576</td>\n",
              "      <td>10552.921983</td>\n",
              "      <td>7.243201</td>\n",
              "      <td>76608.742377</td>\n",
              "    </tr>\n",
              "    <tr>\n",
              "      <th>2020-09-05</th>\n",
              "      <td>10268.434641</td>\n",
              "      <td>10276.175944</td>\n",
              "      <td>10259.914817</td>\n",
              "      <td>10268.025479</td>\n",
              "      <td>8.567235</td>\n",
              "      <td>87342.317616</td>\n",
              "    </tr>\n",
              "    <tr>\n",
              "      <th>2017-08-11</th>\n",
              "      <td>3504.350348</td>\n",
              "      <td>3506.692736</td>\n",
              "      <td>3501.226631</td>\n",
              "      <td>3504.276588</td>\n",
              "      <td>8.477167</td>\n",
              "      <td>29771.160096</td>\n",
              "    </tr>\n",
              "    <tr>\n",
              "      <th>2018-07-31</th>\n",
              "      <td>7915.237223</td>\n",
              "      <td>7918.563062</td>\n",
              "      <td>7911.173118</td>\n",
              "      <td>7914.978093</td>\n",
              "      <td>8.346615</td>\n",
              "      <td>65469.866943</td>\n",
              "    </tr>\n",
              "    <tr>\n",
              "      <th>...</th>\n",
              "      <td>...</td>\n",
              "      <td>...</td>\n",
              "      <td>...</td>\n",
              "      <td>...</td>\n",
              "      <td>...</td>\n",
              "      <td>...</td>\n",
              "    </tr>\n",
              "    <tr>\n",
              "      <th>2017-11-07</th>\n",
              "      <td>7103.250876</td>\n",
              "      <td>7108.395911</td>\n",
              "      <td>7097.076488</td>\n",
              "      <td>7102.876099</td>\n",
              "      <td>8.090588</td>\n",
              "      <td>57463.838377</td>\n",
              "    </tr>\n",
              "    <tr>\n",
              "      <th>2018-06-13</th>\n",
              "      <td>6443.258979</td>\n",
              "      <td>6448.252750</td>\n",
              "      <td>6436.521771</td>\n",
              "      <td>6443.017722</td>\n",
              "      <td>13.326739</td>\n",
              "      <td>85268.602875</td>\n",
              "    </tr>\n",
              "    <tr>\n",
              "      <th>2018-12-13</th>\n",
              "      <td>3360.830575</td>\n",
              "      <td>3362.474975</td>\n",
              "      <td>3359.062967</td>\n",
              "      <td>3360.825571</td>\n",
              "      <td>8.520014</td>\n",
              "      <td>28479.398644</td>\n",
              "    </tr>\n",
              "    <tr>\n",
              "      <th>2017-04-20</th>\n",
              "      <td>1220.986976</td>\n",
              "      <td>1221.377200</td>\n",
              "      <td>1220.589048</td>\n",
              "      <td>1221.058368</td>\n",
              "      <td>4.778348</td>\n",
              "      <td>5841.845868</td>\n",
              "    </tr>\n",
              "    <tr>\n",
              "      <th>2018-05-31</th>\n",
              "      <td>7500.143500</td>\n",
              "      <td>7503.771333</td>\n",
              "      <td>7496.096660</td>\n",
              "      <td>7500.117368</td>\n",
              "      <td>5.096533</td>\n",
              "      <td>38294.625397</td>\n",
              "    </tr>\n",
              "  </tbody>\n",
              "</table>\n",
              "<p>438 rows × 6 columns</p>\n",
              "</div>"
            ],
            "text/plain": [
              "                    Open          High  ...  Volume_(BTC)  Volume_(Currency)\n",
              "Timestamp                               ...                                 \n",
              "2020-01-21   8645.480195   8649.571579  ...      2.360702       20386.559122\n",
              "2018-02-27  10552.619680  10560.028065  ...      7.243201       76608.742377\n",
              "2020-09-05  10268.434641  10276.175944  ...      8.567235       87342.317616\n",
              "2017-08-11   3504.350348   3506.692736  ...      8.477167       29771.160096\n",
              "2018-07-31   7915.237223   7918.563062  ...      8.346615       65469.866943\n",
              "...                  ...           ...  ...           ...                ...\n",
              "2017-11-07   7103.250876   7108.395911  ...      8.090588       57463.838377\n",
              "2018-06-13   6443.258979   6448.252750  ...     13.326739       85268.602875\n",
              "2018-12-13   3360.830575   3362.474975  ...      8.520014       28479.398644\n",
              "2017-04-20   1220.986976   1221.377200  ...      4.778348        5841.845868\n",
              "2018-05-31   7500.143500   7503.771333  ...      5.096533       38294.625397\n",
              "\n",
              "[438 rows x 6 columns]"
            ]
          },
          "metadata": {},
          "execution_count": 307
        }
      ]
    },
    {
      "cell_type": "code",
      "metadata": {
        "execution": {
          "iopub.execute_input": "2021-07-30T22:41:31.322537Z",
          "iopub.status.busy": "2021-07-30T22:41:31.321490Z",
          "iopub.status.idle": "2021-07-30T22:41:38.415501Z",
          "shell.execute_reply": "2021-07-30T22:41:38.414810Z",
          "shell.execute_reply.started": "2021-07-30T02:42:48.274209Z"
        },
        "id": "a6263832",
        "papermill": {
          "duration": 7.325406,
          "end_time": "2021-07-30T22:41:38.415679",
          "exception": false,
          "start_time": "2021-07-30T22:41:31.090273",
          "status": "completed"
        },
        "tags": [],
        "colab": {
          "base_uri": "https://localhost:8080/",
          "height": 663
        },
        "outputId": "c69f90d6-b311-4c31-a100-102047a40ef5"
      },
      "source": [
        "X_test['predicted_price'] = predicted_price\n",
        "X_test['actual_price'] = y_test\n",
        "X_test"
      ],
      "id": "a6263832",
      "execution_count": null,
      "outputs": [
        {
          "output_type": "stream",
          "name": "stderr",
          "text": [
            "/usr/local/lib/python3.7/dist-packages/ipykernel_launcher.py:1: SettingWithCopyWarning: \n",
            "A value is trying to be set on a copy of a slice from a DataFrame.\n",
            "Try using .loc[row_indexer,col_indexer] = value instead\n",
            "\n",
            "See the caveats in the documentation: https://pandas.pydata.org/pandas-docs/stable/user_guide/indexing.html#returning-a-view-versus-a-copy\n",
            "  \"\"\"Entry point for launching an IPython kernel.\n",
            "/usr/local/lib/python3.7/dist-packages/ipykernel_launcher.py:2: SettingWithCopyWarning: \n",
            "A value is trying to be set on a copy of a slice from a DataFrame.\n",
            "Try using .loc[row_indexer,col_indexer] = value instead\n",
            "\n",
            "See the caveats in the documentation: https://pandas.pydata.org/pandas-docs/stable/user_guide/indexing.html#returning-a-view-versus-a-copy\n",
            "  \n"
          ]
        },
        {
          "output_type": "execute_result",
          "data": {
            "text/html": [
              "<div>\n",
              "<style scoped>\n",
              "    .dataframe tbody tr th:only-of-type {\n",
              "        vertical-align: middle;\n",
              "    }\n",
              "\n",
              "    .dataframe tbody tr th {\n",
              "        vertical-align: top;\n",
              "    }\n",
              "\n",
              "    .dataframe thead th {\n",
              "        text-align: right;\n",
              "    }\n",
              "</style>\n",
              "<table border=\"1\" class=\"dataframe\">\n",
              "  <thead>\n",
              "    <tr style=\"text-align: right;\">\n",
              "      <th></th>\n",
              "      <th>Open</th>\n",
              "      <th>High</th>\n",
              "      <th>Low</th>\n",
              "      <th>Close</th>\n",
              "      <th>Volume_(BTC)</th>\n",
              "      <th>Volume_(Currency)</th>\n",
              "      <th>predicted_price</th>\n",
              "      <th>actual_price</th>\n",
              "    </tr>\n",
              "    <tr>\n",
              "      <th>Timestamp</th>\n",
              "      <th></th>\n",
              "      <th></th>\n",
              "      <th></th>\n",
              "      <th></th>\n",
              "      <th></th>\n",
              "      <th></th>\n",
              "      <th></th>\n",
              "      <th></th>\n",
              "    </tr>\n",
              "  </thead>\n",
              "  <tbody>\n",
              "    <tr>\n",
              "      <th>2020-01-21</th>\n",
              "      <td>8645.480195</td>\n",
              "      <td>8649.571579</td>\n",
              "      <td>8642.046356</td>\n",
              "      <td>8645.604819</td>\n",
              "      <td>2.360702</td>\n",
              "      <td>20386.559122</td>\n",
              "      <td>3430.883057</td>\n",
              "      <td>3438.456907</td>\n",
              "    </tr>\n",
              "    <tr>\n",
              "      <th>2018-02-27</th>\n",
              "      <td>10552.619680</td>\n",
              "      <td>10560.028065</td>\n",
              "      <td>10545.099576</td>\n",
              "      <td>10552.921983</td>\n",
              "      <td>7.243201</td>\n",
              "      <td>76608.742377</td>\n",
              "      <td>4055.098877</td>\n",
              "      <td>4058.763613</td>\n",
              "    </tr>\n",
              "    <tr>\n",
              "      <th>2020-09-05</th>\n",
              "      <td>10268.434641</td>\n",
              "      <td>10276.175944</td>\n",
              "      <td>10259.914817</td>\n",
              "      <td>10268.025479</td>\n",
              "      <td>8.567235</td>\n",
              "      <td>87342.317616</td>\n",
              "      <td>3964.797607</td>\n",
              "      <td>3966.197318</td>\n",
              "    </tr>\n",
              "    <tr>\n",
              "      <th>2017-08-11</th>\n",
              "      <td>3504.350348</td>\n",
              "      <td>3506.692736</td>\n",
              "      <td>3501.226631</td>\n",
              "      <td>3504.276588</td>\n",
              "      <td>8.477167</td>\n",
              "      <td>29771.160096</td>\n",
              "      <td>1762.656372</td>\n",
              "      <td>1765.211271</td>\n",
              "    </tr>\n",
              "    <tr>\n",
              "      <th>2018-07-31</th>\n",
              "      <td>7915.237223</td>\n",
              "      <td>7918.563062</td>\n",
              "      <td>7911.173118</td>\n",
              "      <td>7914.978093</td>\n",
              "      <td>8.346615</td>\n",
              "      <td>65469.866943</td>\n",
              "      <td>3199.208984</td>\n",
              "      <td>3200.445730</td>\n",
              "    </tr>\n",
              "    <tr>\n",
              "      <th>...</th>\n",
              "      <td>...</td>\n",
              "      <td>...</td>\n",
              "      <td>...</td>\n",
              "      <td>...</td>\n",
              "      <td>...</td>\n",
              "      <td>...</td>\n",
              "      <td>...</td>\n",
              "      <td>...</td>\n",
              "    </tr>\n",
              "    <tr>\n",
              "      <th>2017-11-07</th>\n",
              "      <td>7103.250876</td>\n",
              "      <td>7108.395911</td>\n",
              "      <td>7097.076488</td>\n",
              "      <td>7102.876099</td>\n",
              "      <td>8.090588</td>\n",
              "      <td>57463.838377</td>\n",
              "      <td>2934.593262</td>\n",
              "      <td>2936.100408</td>\n",
              "    </tr>\n",
              "    <tr>\n",
              "      <th>2018-06-13</th>\n",
              "      <td>6443.258979</td>\n",
              "      <td>6448.252750</td>\n",
              "      <td>6436.521771</td>\n",
              "      <td>6443.017722</td>\n",
              "      <td>13.326739</td>\n",
              "      <td>85268.602875</td>\n",
              "      <td>2719.890381</td>\n",
              "      <td>2721.261414</td>\n",
              "    </tr>\n",
              "    <tr>\n",
              "      <th>2018-12-13</th>\n",
              "      <td>3360.830575</td>\n",
              "      <td>3362.474975</td>\n",
              "      <td>3359.062967</td>\n",
              "      <td>3360.825571</td>\n",
              "      <td>8.520014</td>\n",
              "      <td>28479.398644</td>\n",
              "      <td>1715.920532</td>\n",
              "      <td>1718.515443</td>\n",
              "    </tr>\n",
              "    <tr>\n",
              "      <th>2017-04-20</th>\n",
              "      <td>1220.986976</td>\n",
              "      <td>1221.377200</td>\n",
              "      <td>1220.589048</td>\n",
              "      <td>1221.058368</td>\n",
              "      <td>4.778348</td>\n",
              "      <td>5841.845868</td>\n",
              "      <td>1032.608398</td>\n",
              "      <td>1022.280739</td>\n",
              "    </tr>\n",
              "    <tr>\n",
              "      <th>2018-05-31</th>\n",
              "      <td>7500.143500</td>\n",
              "      <td>7503.771333</td>\n",
              "      <td>7496.096660</td>\n",
              "      <td>7500.117368</td>\n",
              "      <td>5.096533</td>\n",
              "      <td>38294.625397</td>\n",
              "      <td>3062.397217</td>\n",
              "      <td>3065.427317</td>\n",
              "    </tr>\n",
              "  </tbody>\n",
              "</table>\n",
              "<p>438 rows × 8 columns</p>\n",
              "</div>"
            ],
            "text/plain": [
              "                    Open          High  ...  predicted_price  actual_price\n",
              "Timestamp                               ...                               \n",
              "2020-01-21   8645.480195   8649.571579  ...      3430.883057   3438.456907\n",
              "2018-02-27  10552.619680  10560.028065  ...      4055.098877   4058.763613\n",
              "2020-09-05  10268.434641  10276.175944  ...      3964.797607   3966.197318\n",
              "2017-08-11   3504.350348   3506.692736  ...      1762.656372   1765.211271\n",
              "2018-07-31   7915.237223   7918.563062  ...      3199.208984   3200.445730\n",
              "...                  ...           ...  ...              ...           ...\n",
              "2017-11-07   7103.250876   7108.395911  ...      2934.593262   2936.100408\n",
              "2018-06-13   6443.258979   6448.252750  ...      2719.890381   2721.261414\n",
              "2018-12-13   3360.830575   3362.474975  ...      1715.920532   1718.515443\n",
              "2017-04-20   1220.986976   1221.377200  ...      1032.608398   1022.280739\n",
              "2018-05-31   7500.143500   7503.771333  ...      3062.397217   3065.427317\n",
              "\n",
              "[438 rows x 8 columns]"
            ]
          },
          "metadata": {},
          "execution_count": 309
        }
      ]
    },
    {
      "cell_type": "code",
      "metadata": {
        "execution": {
          "iopub.execute_input": "2021-07-30T22:41:38.844142Z",
          "iopub.status.busy": "2021-07-30T22:41:38.843319Z",
          "iopub.status.idle": "2021-07-30T22:41:38.850059Z",
          "shell.execute_reply": "2021-07-30T22:41:38.849134Z",
          "shell.execute_reply.started": "2021-07-30T02:43:00.915897Z"
        },
        "id": "20b6759b",
        "papermill": {
          "duration": 0.223116,
          "end_time": "2021-07-30T22:41:38.850299",
          "exception": false,
          "start_time": "2021-07-30T22:41:38.627183",
          "status": "completed"
        },
        "tags": [],
        "colab": {
          "base_uri": "https://localhost:8080/"
        },
        "outputId": "18504de1-6a07-46e0-daf2-bbeac57db983"
      },
      "source": [
        "'''\n",
        "We find the root mean square error of our predicted values and consider this as the prediction metric\n",
        "'''\n",
        "rmse = np.sqrt(mean_squared_error(y_test, predicted_price))\n",
        "print('Test RMSE: %.3f' % rmse)"
      ],
      "id": "20b6759b",
      "execution_count": null,
      "outputs": [
        {
          "output_type": "stream",
          "name": "stdout",
          "text": [
            "Test RMSE: 34.800\n"
          ]
        }
      ]
    }
  ]
}